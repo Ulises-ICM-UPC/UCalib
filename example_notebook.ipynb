{
 "cells": [
  {
   "cell_type": "markdown",
   "metadata": {},
   "source": [
    "# UCalib\n",
    "\n",
    "`UCalib` is an open source software written in Python for automatic image calibration of camera orientation from a set of manually calibrated images.\n",
    "\n",
    "### Description\n",
    "The calibration algorithm assumes that the camera position and the intrinsic parameters of the camera remains unchanged. The result of the process is a common position and intrinsic camera parameters for all images, and the orientation of the cameras for each of the images. The development of this software is suitable for Argus-type video monitoring stations. Details about the algorithm and methodology are described in\n",
    "> *Simarro, G.; Calvete, D.; Soutoa, P. UCalib: Cameras autocalibration on coastal videomonitoring systems. Submitted to Remote Sens. 2021*\n",
    "\n",
    "The automatic calibration process consists of two steps:\n",
    " 1. [Manual calibration of the basis](#basis-calibration)\n",
    " 2. [Automatic image calibration](#automatic-image-calibration)\n",
    "\n",
    "### Requirements and project structure\n",
    "To run the software it is necessary to have Python (3.8) and install the following dependencies:\n",
    "- cv2 (4.2.0)\n",
    "- numpy (1.19.5)\n",
    "- scipy (1.6.0)\n",
    "\n",
    "In parenthesis we indicate the version with which the software has been tested. It is possible that it works with older versions. \n",
    "\n",
    "The structure of the project is the following:\n",
    "* **`basis`**\n",
    "  * `basisImage01cal.txt`\n",
    "  * `basisImage01cdg.txt`\n",
    "  * `basisImage01cdh.txt`\n",
    "  * `basisImage01.png`\n",
    "  * . . .\n",
    "* **`imagesToAutoCalibrate`**\n",
    "  * `image000001cal.txt`\n",
    "  * `image000001.png`\n",
    "  * . . .\n",
    "* **`ucalib`**\n",
    "  * `ucalib.py`\n",
    "\n",
    "The local modules of `UCalib` are located in the **`ucalib`** folder.\n",
    "\n",
    "To run a demo with the images in folder **`basis`** and **`imagesToAutoCalibrate`** using a Jupyter Notebook we provide the file `example_notebook.ipynb`. For experienced users, the `example.py` file can be run in a terminal. \n",
    "\n",
    "## Basis calibration\n",
    "To manually calibrate the images selected for the basis, placed in the folder **`basis`**,  it is necessary that each image `<basisImage>.png` is supplied with a file containing the Ground Control Points (GCP) and, optionally, the Horizon Points (HP) together with the water surface level. The structure of each of these files is the following:\n",
    "* `<basisImage>cdg.txt`: For each GCP one line with \n",
    ">`pixel-column`, `pixel-row`, `x-coordinate`, `y-coordinate`, `z-coordinate`\n",
    "* `<basisImage>cdh.txt`: For each HP one line with\n",
    ">`pixel-column`, `pixel-row`\n",
    "* `<basisImage>zms.txt`: If HP are provided, at the video station, a line with\n",
    "> `mean-sea-level`\n",
    "\n",
    "Quantities must be separated by at least one blank space between them and the last record should not be continued with a newline (return).\n",
    "\n",
    "### Run basis calibration\n",
    "Import `ucalib` module:"
   ]
  },
  {
   "cell_type": "code",
   "execution_count": null,
   "metadata": {
    "collapsed": true
   },
   "outputs": [],
   "source": [
    "from ucalib import ucalib"
   ]
  },
  {
   "cell_type": "markdown",
   "metadata": {},
   "source": [
    "Set the folder path where files for calibrating the base are located:"
   ]
  },
  {
   "cell_type": "code",
   "execution_count": null,
   "metadata": {
    "collapsed": true
   },
   "outputs": [],
   "source": [
    "pathFolderBasis = 'basis'"
   ]
  },
  {
   "cell_type": "markdown",
   "metadata": {},
   "source": [
    "Set the value of the basis calibration parameter:\n",
    "\n",
    "|  | Parameter | Suggested value | Units |\n",
    "|:--|:--:|:--:|:--:|\n",
    "| Critical reprojection pixel error | `eCrit` | _5._ | _pixel_ |\n",
    "\n",
    "\n",
    "Run the calibration algorithm of the basis:"
   ]
  },
  {
   "cell_type": "code",
   "execution_count": null,
   "metadata": {
    "collapsed": true
   },
   "outputs": [],
   "source": [
    "eCrit=5."
   ]
  },
  {
   "cell_type": "markdown",
   "metadata": {},
   "source": [
    "Run the calibration algorithm of the basis:"
   ]
  },
  {
   "cell_type": "code",
   "execution_count": null,
   "metadata": {
    "collapsed": false
   },
   "outputs": [],
   "source": [
    "ucalib.CalibrationOfBasis(pathFolderBasis,eCrit)"
   ]
  },
  {
   "cell_type": "markdown",
   "metadata": {},
   "source": [
    "As a result of the calibration, the calibration file `<basisImage>cal.txt` is generated in the **`basis`** directory for each of the images. This file contains the following parameters:\n",
    "\n",
    "| Magnitudes | Variables | Units |\n",
    "|:--|:--:|:--:|\n",
    "| Camera position coordinates | `xc`, `yc`, `zc` | _m_ |\n",
    "| Camera orientation angles | `ph`, `sg`, `ta` | _rad_ |\n",
    "| Lens radial distortion (quadratic, parabolic) | `k1a`, `k2a` | _-_ |\n",
    "| Lens tangential distortion (quadratic, parabolic) | `p1a`, `p2a` | _-_ |\n",
    "| Pixel size | `sc`, `sr` | _-_ |\n",
    "| Decentering | `oc`, `rr` | _pixel_ |\n",
    "| Image size | `nc`, `nr` | _pixel_ |\n",
    "| Calibration error | `errorT`| _pixel_ |\n",
    "\n",
    "The different calibration files `*cal.txt` differ only in the angles of the camera orientation  (`ph`, `sg`, `ta`) and the calibration error (`errorT`).\n",
    "\n",
    "In case that for a certain image `<basisImage>.txt` the reprojection error of a GCP is higher than the error E, a message will appear suggesting to modify the values or to delete the point in the file `<basisImage>cdg.txt`. \n",
    "\n",
    "## Automatic image calibration\n",
    "\n",
    "In this second step, each of the images in the folder **`imagesToAutoCalibrate`** will be automatically calibrated. Set the folder path where images to calibrate automatically are stored:"
   ]
  },
  {
   "cell_type": "code",
   "execution_count": null,
   "metadata": {
    "collapsed": true
   },
   "outputs": [],
   "source": [
    "pathFolderImagesToAutoCalibrate = 'imagesToAutoCalibrate'"
   ]
  },
  {
   "cell_type": "markdown",
   "metadata": {},
   "source": [
    "Set the values of the automatic image calibration parameters:\n",
    "\n",
    "|  | Parameter | Suggested value | Units |\n",
    "|:--|:--:|:--:|:--:|\n",
    "| Number of features to identify with ORB | `nORB` | _10000_ | _-_ |\n",
    "| Critical homography error | `fC` | _5._ | _pixel_ |\n",
    "| Critical number of pairs | `KC` | _4_ | _-_ |\n"
   ]
  },
  {
   "cell_type": "code",
   "execution_count": null,
   "metadata": {
    "collapsed": true
   },
   "outputs": [],
   "source": [
    "nORB = 10000\n",
    "fC, KC = 5., 4"
   ]
  },
  {
   "cell_type": "markdown",
   "metadata": {},
   "source": [
    "Run the algorithm to calibrate images automatically:"
   ]
  },
  {
   "cell_type": "code",
   "execution_count": null,
   "metadata": {
    "collapsed": false
   },
   "outputs": [],
   "source": [
    "ucalib.AutoCalibrationOfImages(pathFolderBasis,pathFolderImagesToAutoCalibrate,nORB,fC,KC)"
   ]
  },
  {
   "cell_type": "markdown",
   "metadata": {},
   "source": [
    "For each of the images `<image>.png` in directory **`imagesToAutoCalibrate`**, a calibration file `<image>cal.txt` with the same characteristics as the one described above will be obtained.\n",
    "The self-calibration process may fail because the homography error is higher than the one set by the parameter fC, the number of pairs is lower than the critical value KC or ORF cannot identify pairs in the image. In any of these cases it is reported that the image  `<image>.png` is _not automatically calibratable_.\n",
    "\n",
    "## Contact us\n",
    "\n",
    "Are you experiencing problems? Do you want to give us a comment? Do you need to get in touch with us? Please contact us!\n",
    "\n",
    "To do so, we ask you to use the [Issues section](https://github.com/Ulises-ICM-UPC/UCalib/issues) instead of emailing us.\n",
    "\n",
    "## Contributions\n",
    "\n",
    "Contributions to this project are welcome. To do a clean pull request, please follow these [guidelines](https://github.com/MarcDiethelm/contributing/blob/master/README.md)\n",
    "\n",
    "## License\n",
    "\n",
    "UCalib is released under a [GPLv3 license](https://github.com/Ulises-ICM-UPC/UCalib/blob/main/LICENSE). If you use UCalib in an academic work, please cite:\n",
    "\n",
    "    @article{rs11232722,\n",
    "      AUTHOR = {Simarro, Gonzalo and Calvete, Daniel and Souto, Paola},\n",
    "      TITLE = {UCalib: Cameras autocalibration on coastal videomonitoring systems},\n",
    "      JOURNAL = {Remote Sensing},\n",
    "      VOLUME = {},\n",
    "      YEAR = {2021},\n",
    "      NUMBER = {},\n",
    "      ARTICLE-NUMBER = {},\n",
    "      URL = {},\n",
    "      ISSN = {},\n",
    "      DOI = {},\n",
    "      NOTE = {Submitted}\n",
    "      }\n"
   ]
  }
 ],
 "metadata": {
  "kernelspec": {
   "display_name": "Python 3",
   "language": "python",
   "name": "python3"
  },
  "language_info": {
   "codemirror_mode": {
    "name": "ipython",
    "version": 3
   },
   "file_extension": ".py",
   "mimetype": "text/x-python",
   "name": "python",
   "nbconvert_exporter": "python",
   "pygments_lexer": "ipython3",
   "version": "3.5.3"
  }
 },
 "nbformat": 4,
 "nbformat_minor": 2
}
